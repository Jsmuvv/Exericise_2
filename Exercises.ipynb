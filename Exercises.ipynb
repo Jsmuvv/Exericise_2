{
 "cells": [
  {
   "cell_type": "code",
   "execution_count": 4,
   "metadata": {},
   "outputs": [],
   "source": [
    "import re"
   ]
  },
  {
   "cell_type": "markdown",
   "metadata": {},
   "source": [
    "### Exercise 1"
   ]
  },
  {
   "cell_type": "markdown",
   "metadata": {},
   "source": [
    "Write a function that takes in a tweet and returns a list of the hashtags in the tweet<br>\n",
    "Ex. 1<br>\n",
    "tweet = \"Python is the best #Python #Programming #CodingTemple\"<br>\n",
    "Expected Output: [\"#Python\", \"#Programming\", \"#CodingTemple\"]<br>\n",
    "\n",
    "Ex. 2<br>\n",
    "tweet = \"I love my life! #blessed\"<br>\n",
    "Expected Output: [\"#bleesed\"]<br>\n",
    "\n",
    "Ex. 3<br>\n",
    "tweet = \"Bear Down\"<br>\n",
    "Expected Output: []<br>\n"
   ]
  },
  {
   "cell_type": "code",
   "execution_count": 2,
   "metadata": {},
   "outputs": [
    {
     "name": "stdout",
     "output_type": "stream",
     "text": [
      "['#Python', '#Programming', '#CodingTemple']\n",
      "['#blessed']\n",
      "[]\n"
     ]
    }
   ],
   "source": [
    "\n",
    "\n",
    "tweet = \"Python is the best #Python #Programming #CodingTemple\"\n",
    "tweet2 = \"I love my life! #blessed\"\n",
    "tweet3 = \"Bear Down\"\n",
    "result = re.findall(\"\\#[A-za-z]{2,12}\",tweet)\n",
    "result2 = re.findall(\"\\#[A-za-z]{2,12}\",tweet2)\n",
    "result3 = re.findall(\"\\#[A-za-z]{2,12}\",tweet3)\n",
    "\n",
    "print(result)\n",
    "print(result2)\n",
    "print(result3)"
   ]
  },
  {
   "cell_type": "markdown",
   "metadata": {},
   "source": [
    "### Exercise 2"
   ]
  },
  {
   "cell_type": "markdown",
   "metadata": {},
   "source": [
    "Develop a regular expression to validate a username. The username should start with a letter, followed by any combination of letters, numbers, underscores, and dots. It should be between 3 and 16 characters long<br>\n",
    "Ex. 1 <br>\n",
    "username = \"CodingTemple123\"<br>\n",
    "Expected Output: True<br>\n",
    "\n",
    "Ex. 2 <br>\n",
    "username = \"1love\"<br>\n",
    "Expected Output: False<br>\n",
    "\n",
    "Ex. 3 <br>\n",
    "username = \"CT\"<br>\n",
    "Expected Output: False<br>\n",
    "\n",
    "Ex. 4 <br>\n",
    "username = \"This_is_a_username_that_I_would_like_to_use\"<br>\n",
    "Expected Output: False<br>\n",
    "\n",
    "Ex. 5 <br>\n",
    "username = \"brian_ct123\"<br>\n",
    "Expected Output: True<br>"
   ]
  },
  {
   "cell_type": "code",
   "execution_count": 3,
   "metadata": {
    "scrolled": true
   },
   "outputs": [],
   "source": [
    "def user_name(username):\n",
    "    username_check = re.compile(r'[A-z][\\w.]{2,15}$')\n",
    "    if username_check.match(username):\n",
    "            return True\n",
    "    else:\n",
    "            return False"
   ]
  },
  {
   "cell_type": "markdown",
   "metadata": {},
   "source": [
    "### Exercise 3"
   ]
  },
  {
   "cell_type": "markdown",
   "metadata": {},
   "source": [
    "Using the Python `open()` function, read in the `example.txt` file (attached in Google Classroom, make sure it is in the same folder as this notebook). Create a pattern that will find all of the dates in the text. Dates are in the format of YYYY-MM-DD. The pattern should have groups for year, month, and day. Using the `.finditer()` method, iterate over the dates and print in format of month/day/year<br>"
   ]
  },
  {
   "cell_type": "markdown",
   "metadata": {},
   "source": [
    "Output:\n",
    "```\n",
    "05/15/1990\n",
    "09/20/2015\n",
    "12/03/1985\n",
    "06/18/2010\n",
    "11/30/2002\n",
    "08/10/1978\n",
    "04/25/1992\n",
    "07/07/2019\n",
    "02/12/1980\n",
    "03/22/2005\n",
    "```"
   ]
  },
  {
   "cell_type": "code",
   "execution_count": 1,
   "metadata": {},
   "outputs": [
    {
     "name": "stdout",
     "output_type": "stream",
     "text": [
      "Daniel Martinez was born on 1990-05-15. He later married Elizabeth Anderson on 2015-09-20.\n",
      "\n",
      "Alice Johnson's birthdate is 1985-12-03, and she got her degree on 2010-06-18.\n",
      "\n",
      "Michael Brown's graduation date is 2002-11-30. He celebrated his birthday on 1978-08-10.\n",
      "\n",
      "Emily Wilson was born on 1992-04-25. She completed her Ph.D. on 2019-07-07.\n",
      "\n",
      "Sarah Clark's birthdate is 1980-02-12. She joined the company on 2005-03-22.\n",
      "\n"
     ]
    }
   ],
   "source": [
    "with open('example.txt') as homework_file:\n",
    "    data = homework_file.read()\n",
    "    \n",
    "print(data)"
   ]
  },
  {
   "cell_type": "code",
   "execution_count": 2,
   "metadata": {},
   "outputs": [
    {
     "data": {
      "text/plain": [
       "\"Daniel Martinez was born on 1990-05-15. He later married Elizabeth Anderson on 2015-09-20.\\n\\nAlice Johnson's birthdate is 1985-12-03, and she got her degree on 2010-06-18.\\n\\nMichael Brown's graduation date is 2002-11-30. He celebrated his birthday on 1978-08-10.\\n\\nEmily Wilson was born on 1992-04-25. She completed her Ph.D. on 2019-07-07.\\n\\nSarah Clark's birthdate is 1980-02-12. She joined the company on 2005-03-22.\\n\""
      ]
     },
     "execution_count": 2,
     "metadata": {},
     "output_type": "execute_result"
    }
   ],
   "source": [
    "data"
   ]
  },
  {
   "cell_type": "code",
   "execution_count": 5,
   "metadata": {},
   "outputs": [],
   "source": [
    "date_pattern = re.compile(r'(?P<year>\\d{4})-(?P<month>\\d{2})-(?P<day>\\d{2})')"
   ]
  },
  {
   "cell_type": "code",
   "execution_count": 6,
   "metadata": {},
   "outputs": [
    {
     "name": "stdout",
     "output_type": "stream",
     "text": [
      "1990-05-15 becomes 05/15/1990\n",
      "2015-09-20 becomes 09/20/2015\n",
      "1985-12-03 becomes 12/03/1985\n",
      "2010-06-18 becomes 06/18/2010\n",
      "2002-11-30 becomes 11/30/2002\n",
      "1978-08-10 becomes 08/10/1978\n",
      "1992-04-25 becomes 04/25/1992\n",
      "2019-07-07 becomes 07/07/2019\n",
      "1980-02-12 becomes 02/12/1980\n",
      "2005-03-22 becomes 03/22/2005\n"
     ]
    }
   ],
   "source": [
    "for match in date_pattern.finditer(data):\n",
    "    month = match.group('month')\n",
    "    day = match.group('day')\n",
    "    year = match.group('year')\n",
    "    print(f\"{match.group()} becomes {month}/{day}/{year}\")"
   ]
  },
  {
   "cell_type": "code",
   "execution_count": null,
   "metadata": {},
   "outputs": [],
   "source": []
  }
 ],
 "metadata": {
  "kernelspec": {
   "display_name": "Python 3 (ipykernel)",
   "language": "python",
   "name": "python3"
  },
  "language_info": {
   "codemirror_mode": {
    "name": "ipython",
    "version": 3
   },
   "file_extension": ".py",
   "mimetype": "text/x-python",
   "name": "python",
   "nbconvert_exporter": "python",
   "pygments_lexer": "ipython3",
   "version": "3.9.18"
  }
 },
 "nbformat": 4,
 "nbformat_minor": 4
}
